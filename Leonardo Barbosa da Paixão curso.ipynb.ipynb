{
  "cells": [
    {
      "cell_type": "markdown",
      "metadata": {
        "id": "KJqp9AANOCtf"
      },
      "source": [
        "<img src=\"https://raw.githubusercontent.com/andre-marcos-perez/ebac-course-utils/main/media/logo/newebac_logo_black_half.png\" alt=\"ebac-logo\">\n",
        "\n",
        "---\n",
        "\n",
        "# **Módulo** | Python: Variáveis & Tipos de Dados\n",
        "Caderno de **Exercícios**<br> \n",
        "Professor [André Perez](https://www.linkedin.com/in/andremarcosperez/)\n",
        "\n",
        "---"
      ]
    },
    {
      "cell_type": "markdown",
      "metadata": {
        "id": "d9jDtUbDOE1-"
      },
      "source": [
        "# **Tópicos**\n",
        "\n",
        "<ol type=\"1\">\n",
        "  <li>Introdução ao Google Colab;</li>\n",
        "  <li>Variáveis;</li>\n",
        "  <li>Números;</li>\n",
        "  <li><i>Strings;</i></li>\n",
        "  <li>Boleanos.</li>\n",
        "</ol>"
      ]
    },
    {
      "cell_type": "markdown",
      "metadata": {
        "id": "SmoHgt-lwkpD"
      },
      "source": [
        "---"
      ]
    },
    {
      "cell_type": "markdown",
      "metadata": {
        "id": "GABI6OW8OfQ2"
      },
      "source": [
        "# **Exercícios**"
      ]
    },
    {
      "cell_type": "markdown",
      "metadata": {
        "id": "muD1vxozykSC"
      },
      "source": [
        "## 1\\. Google Colab"
      ]
    },
    {
      "cell_type": "code",
      "execution_count": null,
      "metadata": {},
      "outputs": [],
      "source": []
    },
    {
      "cell_type": "markdown",
      "metadata": {
        "id": "ahrFfCuBxJKs"
      },
      "source": [
        "Crie uma célula de código que escreva o texto \"Olá mundo!\", utilize o comando `print`."
      ]
    },
    {
      "cell_type": "code",
      "execution_count": null,
      "metadata": {},
      "outputs": [],
      "source": [
        "print('Olá mundo')"
      ]
    },
    {
      "cell_type": "markdown",
      "metadata": {
        "id": "KI9zQRT2xa7m"
      },
      "source": [
        "Crie uma célua de texto e adicione uma imagem."
      ]
    },
    {
      "cell_type": "code",
      "execution_count": null,
      "metadata": {},
      "outputs": [],
      "source": [
        "import pandas as pd df = pd.DataFrame({'data de nascimento': ['25/12/2000']})  data = df['data de nascimento'] [0] dia = data[:2] mes = data[3:5] ano = data[6:]  print(dia)\n",
        "\n",
        "\n",
        "\n",
        "\n",
        "\n",
        "from tkinter import * \n",
        "\n",
        "root = Tk()\n",
        "\n",
        "imagem = PhotoImage(file=\"imagem.jpg\")\n",
        "\n",
        "lb = Label(root, image=imagem)\n",
        "\n",
        "lb.place(x = 0, y = 20)\n",
        "\n",
        "root.mainloop()\n",
        "\n",
        "\n",
        "\n",
        "\n",
        "i\n",
        "\n",
        "\n",
        "\n"
      ]
    },
    {
      "cell_type": "markdown",
      "metadata": {
        "id": "zMN1Q3jdwoJm"
      },
      "source": [
        "---"
      ]
    },
    {
      "cell_type": "markdown",
      "metadata": {
        "id": "tFYOPLS3xiwe"
      },
      "source": [
        "## 2\\. Números"
      ]
    },
    {
      "cell_type": "markdown",
      "metadata": {
        "id": "O2G9gt7tx2c-"
      },
      "source": [
        "Preencha as células de código para preencher os valores de (A), (B) e (C) na tabela de ticket médio abaixo:\n",
        "\n",
        "<br>\n",
        "\n",
        "| Dia   | Valor Total Vendas | Qtd Total Vendas | Ticket Medio |\n",
        "|-------|--------------------|------------------|--------------|\n",
        "| 19/01 | (961,56)                | 3               | 320.52       |\n",
        "| 20/01 | 834.47             |     (7)              | 119.21       |\n",
        "| 23/01 | 15378.12           |      5               | (3.075,624)          |"
      ]
    },
    {
      "cell_type": "code",
      "execution_count": null,
      "metadata": {
        "id": "nsrKH9EizNRD"
      },
      "outputs": [],
      "source": [
        "# (A)\n",
        "sqv_19 = 3\n",
        "tkt_19 = 320.52\n",
        "\n",
        "svv_19= sqv_19 * tkt_19\n",
        "print (svv_19)\n",
        "\n",
        "\n",
        "R: 961,56"
      ]
    },
    {
      "cell_type": "code",
      "execution_count": null,
      "metadata": {
        "id": "QQ1GBGHJzMmi"
      },
      "outputs": [],
      "source": [
        "svv_20 = 834.47\n",
        "tkt_20 = 119.21\n",
        "\n",
        "sqv_20 = svv_20 / tkt_20\n",
        "print (sqv_20)\n",
        "\n",
        "\n",
        "R: 7\n"
      ]
    },
    {
      "cell_type": "code",
      "execution_count": null,
      "metadata": {
        "id": "W-li0nSMzKNa"
      },
      "outputs": [],
      "source": [
        "svv_23 = 15378.12\n",
        "sqv_23 = 5\n",
        "\n",
        "tkt_23 = svv_23 / sqv_23 \n",
        "print(tkt_23)\n",
        "\n",
        "\n",
        "R: 3.075,624"
      ]
    },
    {
      "cell_type": "markdown",
      "metadata": {
        "id": "3eoP-Vj9yzh8"
      },
      "source": [
        "---"
      ]
    },
    {
      "cell_type": "markdown",
      "metadata": {
        "id": "yUJ6kdony6Pr"
      },
      "source": [
        "## 3\\. Strings"
      ]
    },
    {
      "cell_type": "markdown",
      "metadata": {
        "id": "KDuZpg-5zCvO"
      },
      "source": [
        "Aplique três métodos distintos na *string* abaixo, você pode conferir alguns métodos neste [link](https://www.w3schools.com/python/python_ref_string.asp):"
      ]
    },
    {
      "cell_type": "code",
      "execution_count": null,
      "metadata": {
        "id": "k9zbyf7BzjKj"
      },
      "outputs": [],
      "source": [
        "cancao = 'Roda mundo, roda gigante, roda moinho, roda pião.'"
      ]
    },
    {
      "cell_type": "code",
      "execution_count": null,
      "metadata": {},
      "outputs": [],
      "source": [
        "mensagem = 'eu gosto de roda gigante'\n",
        "nova_mensagem = mensagem.upper()\n",
        "\n",
        "print(nova_mensagem) # eu gosto de roda gigante \n",
        "\n",
        "\n",
        "mensagem = 'eu gosto de roda pião'\n",
        "nova_mensagem = mensagem.lower()\n",
        "\n",
        "print(nova_mensagem) # eu gosto de roda pião\n",
        "\n",
        "\n",
        "mensagem = 'Estou aprendendo roda moinho e roda mundo'\n",
        "nova_mensagem = mensagem.split(' ')\n",
        "print(type(nova_mensagem)) # type 'list'\n",
        "print(nova_mensagem)\n",
        "\n"
      ]
    },
    {
      "cell_type": "code",
      "execution_count": null,
      "metadata": {},
      "outputs": [],
      "source": []
    },
    {
      "cell_type": "markdown",
      "metadata": {
        "id": "guZMHXVq0FnC"
      },
      "source": [
        "Extraia da string abaixo o valor da taxa **selic** na variável `selic` e o valor do **ano** na variavel `ano`. Imprima os valores na tela."
      ]
    },
    {
      "cell_type": "code",
      "execution_count": null,
      "metadata": {
        "id": "cbx_P4IQ0agK"
      },
      "outputs": [],
      "source": [
        "noticia = 'Selic vai a 2,75% e supera expectativas; é a primeira alta em 6 anos.'"
      ]
    },
    {
      "cell_type": "code",
      "execution_count": null,
      "metadata": {},
      "outputs": [],
      "source": [
        "str = \"Selic vai a 2,75 e supera expectativas, é a primeira alta em 6 anos \"\n",
        "print(str[11:16]) \n",
        "print(str[60:67])"
      ]
    },
    {
      "cell_type": "markdown",
      "metadata": {
        "id": "wWzbu-OC0z3L"
      },
      "source": [
        "---"
      ]
    },
    {
      "cell_type": "markdown",
      "metadata": {
        "id": "no8w_Ati01xP"
      },
      "source": [
        "## 4\\. Booleanos"
      ]
    },
    {
      "cell_type": "markdown",
      "metadata": {
        "id": "D_0tC3SC099N"
      },
      "source": [
        "Utilize a tabela da verdade para responder: qual o valor da variável x?"
      ]
    },
    {
      "cell_type": "code",
      "execution_count": null,
      "metadata": {
        "id": "XwIEbxf91SpU"
      },
      "outputs": [],
      "source": [
        "a = False\n",
        "b = True\n",
        "\n",
        "x = not a & b\n",
        "\n",
        "\n",
        "\n",
        "A = True\n",
        "B = False\n",
        "print (\"Valor de A or B: \", A or B)"
      ]
    }
  ],
  "metadata": {
    "colab": {
      "name": "module_1_exercise.ipynb",
      "provenance": [],
      "toc_visible": true
    },
    "kernelspec": {
      "display_name": "Python 3",
      "name": "python3"
    }
  },
  "nbformat": 4,
  "nbformat_minor": 0
}
